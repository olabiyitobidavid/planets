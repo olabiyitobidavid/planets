{
 "cells": [
  {
   "cell_type": "code",
   "execution_count": null,
   "id": "82e0f899",
   "metadata": {},
   "outputs": [],
   "source": []
  },
  {
   "cell_type": "markdown",
   "id": "34083d80",
   "metadata": {},
   "source": []
  },
  {
   "cell_type": "markdown",
   "id": "469679a3",
   "metadata": {},
   "source": [
    "1. Use numbers\n",
    "2. to create\n",
    "3. numbered lists"
   ]
  },
  {
   "cell_type": "markdown",
   "id": "9b6fb130",
   "metadata": {},
   "source": [
    "* You can use indents\n",
    "    * To create sublists\n",
    "    * Like this one\n",
    "* Do you see that comming"
   ]
  },
  {
   "cell_type": "markdown",
   "id": "12162c51",
   "metadata": {},
   "source": [
    "# A Level-! Heading\n",
    "## Level-2 Heading\n",
    "### Level-3 Heading"
   ]
  },
  {
   "cell_type": "markdown",
   "id": "8be2e969",
   "metadata": {},
   "source": [
    "Line breaks\n",
    "doesn't matter\n",
    "\n",
    "But blank lines create new paragraphs"
   ]
  },
  {
   "cell_type": "markdown",
   "id": "5da56a73",
   "metadata": {},
   "source": [
    "Create links with [http://datacarpentry.org](https://ui.edu.ng)\n",
    "\n",
    "Create link to [my Resaearch Gate profile](https://researchgate.net/Tobi_Olabiyi2)"
   ]
  },
  {
   "cell_type": "markdown",
   "id": "fbf8f8c5",
   "metadata": {},
   "source": [
    " CREATING LISTS IN MARKDOWN\n",
    "\n",
    "Create a nested list in a Markdown cell in a notebook that look like this:\n",
    "\n",
    "1. Get Funding.\n",
    "\n",
    "2. Do work.\n",
    "\n",
    "* Design experiement.\n",
    "* Collect data.\n",
    "* Analyze.\n",
    "3. Write up.\n",
    "\n",
    "4. Publish."
   ]
  },
  {
   "cell_type": "markdown",
   "id": "15b88b56",
   "metadata": {},
   "source": [
    "2+1\n",
    "7*3"
   ]
  },
  {
   "cell_type": "markdown",
   "id": "be59920d",
   "metadata": {},
   "source": [
    "x =6*7+12\n",
    "print(x)"
   ]
  },
  {
   "cell_type": "markdown",
   "id": "aa567601",
   "metadata": {},
   "source": [
    "$\\sum_{n=1}^N 2^{-n}\\approx 1$"
   ]
  },
  {
   "cell_type": "markdown",
   "id": "3580ccc9",
   "metadata": {},
   "source": [
    "How to close the file; save and shut down"
   ]
  }
 ],
 "metadata": {
  "kernelspec": {
   "display_name": "Python 3 (ipykernel)",
   "language": "python",
   "name": "python3"
  },
  "language_info": {
   "codemirror_mode": {
    "name": "ipython",
    "version": 3
   },
   "file_extension": ".py",
   "mimetype": "text/x-python",
   "name": "python",
   "nbconvert_exporter": "python",
   "pygments_lexer": "ipython3",
   "version": "3.11.4"
  }
 },
 "nbformat": 4,
 "nbformat_minor": 5
}
