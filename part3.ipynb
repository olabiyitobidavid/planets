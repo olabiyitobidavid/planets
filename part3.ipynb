{
 "cells": [
  {
   "cell_type": "code",
   "execution_count": 3,
   "id": "d6ad1349",
   "metadata": {},
   "outputs": [
    {
     "name": "stdout",
     "output_type": "stream",
     "text": [
      "<class 'int'> <class 'str'>\n"
     ]
    }
   ],
   "source": [
    "a=52\n",
    "b= 'hello'\n",
    "a_=type(a)\n",
    "b_=type(b)\n",
    "print(a_,b_)"
   ]
  },
  {
   "cell_type": "code",
   "execution_count": 10,
   "id": "f4e0cf37",
   "metadata": {},
   "outputs": [
    {
     "name": "stdout",
     "output_type": "stream",
     "text": [
      "Ahmed Walsh\n",
      "Length of Ahmed Walsh is 11\n"
     ]
    }
   ],
   "source": [
    "full_name = 'Ahmed' + ' ' +'Walsh'\n",
    "c=full_name\n",
    "print(c)\n",
    "print('Length of',c,'is',len(c))"
   ]
  },
  {
   "cell_type": "code",
   "execution_count": 13,
   "id": "b83e69eb",
   "metadata": {},
   "outputs": [
    {
     "name": "stdout",
     "output_type": "stream",
     "text": [
      "This is adding integers:  3\n",
      "This is adding string:  12\n"
     ]
    }
   ],
   "source": [
    "a= int('2')\n",
    "b=str(1)\n",
    "print('This is adding integers: ',1+ a)\n",
    "print('This is adding string: ',b+'2')"
   ]
  },
  {
   "cell_type": "code",
   "execution_count": 14,
   "id": "6d7eec07",
   "metadata": {},
   "outputs": [
    {
     "name": "stdout",
     "output_type": "stream",
     "text": [
      "half is 0.5\n"
     ]
    }
   ],
   "source": [
    "a='half is'\n",
    "c=1/2.0\n",
    "print(a,c)\n",
    "d= 'three squared is'\n",
    "e=3.0**2\n",
    "print(d,e)"
   ]
  },
  {
   "cell_type": "code",
   "execution_count": 16,
   "id": "5f5659fb",
   "metadata": {},
   "outputs": [
    {
     "name": "stdout",
     "output_type": "stream",
     "text": [
      "first is 2 and second is 5\n"
     ]
    }
   ],
   "source": [
    "var_1=1\n",
    "var_2=5*var_1\n",
    "var_1 =2\n",
    "print('first is',var_1,'and second is',var_2)"
   ]
  },
  {
   "cell_type": "code",
   "execution_count": 22,
   "id": "bfa7660e",
   "metadata": {},
   "outputs": [
    {
     "name": "stdout",
     "output_type": "stream",
     "text": [
      "string to float:\" 3.4\n",
      "float to integer: 3\n"
     ]
    }
   ],
   "source": [
    "a=float('3.4')\n",
    "a_='string to float:\"'\n",
    "print(a_,a)\n",
    "b= int(3.3)\n",
    "b_='float to integer:'\n",
    "print(b_,b)"
   ]
  },
  {
   "cell_type": "code",
   "execution_count": 54,
   "id": "03419192",
   "metadata": {},
   "outputs": [
    {
     "data": {
      "text/plain": [
       "(2, 2.0)"
      ]
     },
     "execution_count": 54,
     "metadata": {},
     "output_type": "execute_result"
    }
   ],
   "source": [
    "a_complex= 6+2j\n",
    "a=a_complex.real\n",
    "b=a_complex.imag\n",
    "c=int(b)\n",
    "c,b"
   ]
  },
  {
   "cell_type": "code",
   "execution_count": 68,
   "id": "57d8e883",
   "metadata": {},
   "outputs": [
    {
     "data": {
      "text/plain": [
       "(<method-wrapper '__len__' of str object at 0x000001B95CED3C30>,\n",
       " 11,\n",
       " 'Hello World')"
      ]
     },
     "execution_count": 68,
     "metadata": {},
     "output_type": "execute_result"
    }
   ],
   "source": [
    "round(3.7221,ndigits=1)\n",
    "my_string ='hELLO wORLD'\n",
    "b=my_string.swapcase()\n",
    "b\n",
    "c=my_string.__len__()\n",
    "c1=my_string.__len__\n",
    "c1,c,b"
   ]
  }
 ],
 "metadata": {
  "kernelspec": {
   "display_name": "Python 3 (ipykernel)",
   "language": "python",
   "name": "python3"
  },
  "language_info": {
   "codemirror_mode": {
    "name": "ipython",
    "version": 3
   },
   "file_extension": ".py",
   "mimetype": "text/x-python",
   "name": "python",
   "nbconvert_exporter": "python",
   "pygments_lexer": "ipython3",
   "version": "3.11.4"
  }
 },
 "nbformat": 4,
 "nbformat_minor": 5
}
