{
 "cells": [
  {
   "cell_type": "code",
   "execution_count": 5,
   "id": "38641b0d",
   "metadata": {},
   "outputs": [],
   "source": [
    " age = 42\n",
    "first_name = \"Ahmed\""
   ]
  },
  {
   "cell_type": "code",
   "execution_count": 6,
   "id": "9cf72234",
   "metadata": {},
   "outputs": [
    {
     "name": "stdout",
     "output_type": "stream",
     "text": [
      "Ahmed is 42 years old\n"
     ]
    }
   ],
   "source": [
    "print(first_name, 'is', age,'years old')"
   ]
  },
  {
   "cell_type": "code",
   "execution_count": 9,
   "id": "adef50ed",
   "metadata": {},
   "outputs": [
    {
     "name": "stdout",
     "output_type": "stream",
     "text": [
      "Ahmed is 42 years old\n"
     ]
    }
   ],
   "source": [
    "last_name=\"Olaniyi\"\n",
    "a=print(first_name, 'is', age,'years old')"
   ]
  },
  {
   "cell_type": "code",
   "execution_count": 18,
   "id": "ad043582",
   "metadata": {},
   "outputs": [
    {
     "name": "stdout",
     "output_type": "stream",
     "text": [
      "Olaniyi Ahmed is 42 years old\n"
     ]
    }
   ],
   "source": [
    "#d=print()\n",
    "print(last_name,first_name, 'is', age,'years old')"
   ]
  },
  {
   "cell_type": "code",
   "execution_count": 23,
   "id": "06820b21",
   "metadata": {},
   "outputs": [
    {
     "name": "stdout",
     "output_type": "stream",
     "text": [
      "eliu\n"
     ]
    }
   ],
   "source": [
    "atom_name= \"helium\"\n",
    "d= atom_name[1:5]\n",
    "print(d)"
   ]
  },
  {
   "cell_type": "code",
   "execution_count": 24,
   "id": "d05d4549",
   "metadata": {},
   "outputs": [
    {
     "name": "stdout",
     "output_type": "stream",
     "text": [
      "the length of helium is 6\n"
     ]
    }
   ],
   "source": [
    "f=len(atom_name)\n",
    "print(\"the length of\",atom_name,\"is\",f)"
   ]
  },
  {
   "cell_type": "code",
   "execution_count": 25,
   "id": "cad8ca94",
   "metadata": {},
   "outputs": [
    {
     "data": {
      "text/plain": [
       "1"
      ]
     },
     "execution_count": 25,
     "metadata": {},
     "output_type": "execute_result"
    }
   ],
   "source": [
    "#Keeping the initial value of \"a\" to \"swap\"\n",
    "a=1\n",
    "b=2\n",
    "swap =a\n",
    "swap"
   ]
  },
  {
   "cell_type": "code",
   "execution_count": 28,
   "id": "7059b8f6",
   "metadata": {},
   "outputs": [
    {
     "data": {
      "text/plain": [
       "2"
      ]
     },
     "execution_count": 28,
     "metadata": {},
     "output_type": "execute_result"
    }
   ],
   "source": [
    "a=b\n",
    "swap\n",
    "b"
   ]
  },
  {
   "cell_type": "code",
   "execution_count": 29,
   "id": "15e01011",
   "metadata": {},
   "outputs": [
    {
     "data": {
      "text/plain": [
       "'left'"
      ]
     },
     "execution_count": 29,
     "metadata": {},
     "output_type": "execute_result"
    }
   ],
   "source": [
    "initial ='left'\n",
    "position=initial\n",
    "initial ='right'\n",
    "position"
   ]
  },
  {
   "cell_type": "code",
   "execution_count": 32,
   "id": "eeb848fb",
   "metadata": {},
   "outputs": [
    {
     "data": {
      "text/plain": [
       "'2'"
      ]
     },
     "execution_count": 32,
     "metadata": {},
     "output_type": "execute_result"
    }
   ],
   "source": [
    "a=str(123)\n",
    "a[1]"
   ]
  },
  {
   "cell_type": "code",
   "execution_count": 41,
   "id": "614920c9",
   "metadata": {},
   "outputs": [
    {
     "name": "stdout",
     "output_type": "stream",
     "text": [
      "atom_name[1:3] is: ar\n"
     ]
    }
   ],
   "source": [
    "atom_name ='carbon'\n",
    "a='atom_name[1:3] is:'\n",
    "b=atom_name[1:3]\n",
    "print(a,b)"
   ]
  },
  {
   "cell_type": "code",
   "execution_count": 47,
   "id": "768bb71e",
   "metadata": {},
   "outputs": [
    {
     "data": {
      "text/plain": [
       "'fo'"
      ]
     },
     "execution_count": 47,
     "metadata": {},
     "output_type": "execute_result"
    }
   ],
   "source": [
    "species_name=\"Acacia buxifolia\"\n",
    "a=species_name\n",
    "#a[2:8]\n",
    "#a[11:]\n",
    "a[11:-3]\n",
    "#a[:4]\n",
    "#a[0:20]"
   ]
  }
 ],
 "metadata": {
  "kernelspec": {
   "display_name": "Python 3 (ipykernel)",
   "language": "python",
   "name": "python3"
  },
  "language_info": {
   "codemirror_mode": {
    "name": "ipython",
    "version": 3
   },
   "file_extension": ".py",
   "mimetype": "text/x-python",
   "name": "python",
   "nbconvert_exporter": "python",
   "pygments_lexer": "ipython3",
   "version": "3.11.4"
  }
 },
 "nbformat": 4,
 "nbformat_minor": 5
}
